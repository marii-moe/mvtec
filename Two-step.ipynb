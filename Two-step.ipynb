{
 "cells": [
  {
   "cell_type": "code",
   "execution_count": null,
   "id": "8135ee35",
   "metadata": {},
   "outputs": [],
   "source": [
    "from fastai.basics import *\n",
    "from fastai.vision.core import *\n",
    "from fastai.vision.data import *\n",
    "from fastai.vision.augment import *\n",
    "from fastai.vision.models.unet import *\n",
    "from fastai.vision.learner import *\n",
    "from fastai.vision.models import *\n",
    "from fastai.callback.wandb import *\n",
    "import wandb "
   ]
  },
  {
   "cell_type": "code",
   "execution_count": null,
   "id": "6e6ba517",
   "metadata": {},
   "outputs": [],
   "source": [
    "wandb.init(project=\"mvtec\")"
   ]
  },
  {
   "cell_type": "markdown",
   "id": "8567e254",
   "metadata": {},
   "source": [
    "Dataset: https://www.mvtec.com/company/research/datasets/mvtec-ad"
   ]
  },
  {
   "cell_type": "code",
   "execution_count": null,
   "id": "04e755e7",
   "metadata": {},
   "outputs": [],
   "source": [
    "data_url='https://www.mydrive.ch/shares/38536/3830184030e49fe74747669442f0f282/download/420938113-1629952094/mvtec_anomaly_detection.tar.xz'"
   ]
  },
  {
   "cell_type": "code",
   "execution_count": null,
   "id": "49d3a6b8",
   "metadata": {},
   "outputs": [],
   "source": [
    "dest=Path('/home/molly/.fastai/data/mvtec')"
   ]
  },
  {
   "cell_type": "code",
   "execution_count": null,
   "id": "0821195b",
   "metadata": {},
   "outputs": [],
   "source": [
    "#fastai doesn;t recognize .xz files\n",
    "def file_extract(fname, dest=None):\n",
    "    \"Extract `fname` to `dest` using `tarfile` or `zipfile`.\"\n",
    "    if dest is None: dest = Path(fname).parent\n",
    "    fname = str(fname)\n",
    "    if   fname.endswith('gz'):  tarfile.open(fname, 'r:gz').extractall(dest)\n",
    "    elif fname.endswith('xz'):  tarfile.open(fname, 'r:xz').extractall(dest)\n",
    "    elif fname.endswith('zip'): zipfile.ZipFile(fname     ).extractall(dest)\n",
    "    else: raise Exception(f'Unrecognized archive: {fname}')"
   ]
  },
  {
   "cell_type": "code",
   "execution_count": null,
   "id": "b7ed2246",
   "metadata": {},
   "outputs": [],
   "source": [
    "path=untar_data(data_url,dest=dest,extract_func=file_extract) #breaks with '-' dashes?\n",
    "path=path.parent\n",
    "path.absolute()"
   ]
  },
  {
   "cell_type": "code",
   "execution_count": null,
   "id": "8a07bc5a",
   "metadata": {},
   "outputs": [],
   "source": [
    "carpet_path=path/'carpet'/'test'\n",
    "defect_folders=carpet_path.ls().map(lambda p:p.stem).filter(lambda p:p!='good')\n",
    "image_files=get_image_files(carpet_path,folders=defect_folders)"
   ]
  },
  {
   "cell_type": "code",
   "execution_count": null,
   "id": "d0981f1b",
   "metadata": {},
   "outputs": [],
   "source": [
    "Image.open(image_files[10])"
   ]
  },
  {
   "cell_type": "code",
   "execution_count": null,
   "id": "2af35e33",
   "metadata": {},
   "outputs": [],
   "source": [
    "def label_func(p): return p.parent.parent.parent/'ground_truth'/p.parent.stem/(p.stem+'_mask'+p.suffix)"
   ]
  },
  {
   "cell_type": "markdown",
   "id": "92d47090",
   "metadata": {},
   "source": [
    "Realized the mask values are two values [0,255]. Divided by 255, where `div_mask=255.`, to work with pytorch. "
   ]
  },
  {
   "cell_type": "code",
   "execution_count": null,
   "id": "a409aea3",
   "metadata": {},
   "outputs": [],
   "source": [
    "@patch \n",
    "def encodes(self:SpaceTfm,x:TensorImage): \n",
    "    with torch.no_grad(): return self.space_fn(x,partial(compose_tfms, tfms=self.fs))"
   ]
  },
  {
   "cell_type": "code",
   "execution_count": null,
   "id": "90c88401",
   "metadata": {},
   "outputs": [],
   "source": [
    "image_tfms=aug_transforms(mult=1.0,\n",
    "    do_flip=True,\n",
    "    flip_vert=True,\n",
    "    max_rotate=10.0,\n",
    "    size=(512,512),\n",
    "    min_zoom=1.0,\n",
    "    max_zoom=2.,\n",
    "    max_lighting=0.2,\n",
    "    max_warp=0.2,\n",
    "    p_affine=0.75,\n",
    "    p_lighting=0.75,\n",
    "    xtra_tfms=[Saturation(max_lighting=0.1, p=0.75),\n",
    "               Hue(max_hue=0.1, p=0.75)],\n",
    "    mode='bilinear',\n",
    "    pad_mode='reflection',\n",
    "    align_corners=True,\n",
    "    batch=False,\n",
    "    min_scale=1.0,)"
   ]
  },
  {
   "cell_type": "code",
   "execution_count": null,
   "id": "a4fde1e4",
   "metadata": {},
   "outputs": [],
   "source": [
    "mvtec = DataBlock(blocks=(ImageBlock, MaskBlock(['good','bad'])),\n",
    "                   get_items = partial(get_image_files,folders=defect_folders),\n",
    "                   get_y = label_func,\n",
    "                   splitter=RandomSplitter(),\n",
    "                   batch_tfms=image_tfms+[IntToFloatTensor(div_mask=255.) ])"
   ]
  },
  {
   "cell_type": "code",
   "execution_count": null,
   "id": "aae4a2bd",
   "metadata": {},
   "outputs": [],
   "source": [
    "Path('/home/molly/.fastai/data/mvtec/carpet/ground_truth/').ls()"
   ]
  },
  {
   "cell_type": "code",
   "execution_count": null,
   "id": "8114ae46",
   "metadata": {},
   "outputs": [],
   "source": [
    "dls = mvtec.dataloaders(carpet_path,bs=8)"
   ]
  },
  {
   "cell_type": "code",
   "execution_count": null,
   "id": "fb0ad9ac",
   "metadata": {},
   "outputs": [],
   "source": [
    "dls.show_batch()"
   ]
  },
  {
   "cell_type": "code",
   "execution_count": null,
   "id": "ed062729",
   "metadata": {},
   "outputs": [],
   "source": [
    "learn = unet_learner(dls, resnet34,cbs=[WandbCallback]).to_fp16()\n",
    "learn.freeze()\n",
    "#learn.lr_find()"
   ]
  },
  {
   "cell_type": "code",
   "execution_count": null,
   "id": "76753e77",
   "metadata": {},
   "outputs": [],
   "source": [
    "learn.fit_one_cycle(8,lr_max=0.0005)"
   ]
  },
  {
   "cell_type": "code",
   "execution_count": null,
   "id": "f488722d",
   "metadata": {},
   "outputs": [],
   "source": [
    "mvtec = DataBlock(blocks=(ImageBlock, MaskBlock(['good','bad'])),\n",
    "                   get_items = partial(get_image_files,folders=defect_folders),\n",
    "                   get_y = label_func,\n",
    "                   splitter=RandomSplitter(),\n",
    "                   batch_tfms=aug_transforms(size=(512,512))+[IntToFloatTensor(div_mask=255.) ])\n",
    "dls = mvtec.dataloaders(carpet_path,bs=8)\n",
    "learn.dls=dls"
   ]
  },
  {
   "cell_type": "code",
   "execution_count": null,
   "id": "12d3a24f",
   "metadata": {},
   "outputs": [],
   "source": [
    "#learn.lr_find()"
   ]
  },
  {
   "cell_type": "code",
   "execution_count": null,
   "id": "987560cf",
   "metadata": {},
   "outputs": [],
   "source": [
    "learn.unfreeze()\n",
    "learn.fit_one_cycle(8,lr_max=0.0001)"
   ]
  },
  {
   "cell_type": "code",
   "execution_count": null,
   "id": "8fab1579",
   "metadata": {},
   "outputs": [],
   "source": [
    "learn.show_results(max_n=2)"
   ]
  },
  {
   "cell_type": "code",
   "execution_count": null,
   "id": "0f2e0047",
   "metadata": {},
   "outputs": [],
   "source": []
  }
 ],
 "metadata": {
  "kernelspec": {
   "display_name": "Python 3 (ipykernel)",
   "language": "python",
   "name": "python3"
  }
 },
 "nbformat": 4,
 "nbformat_minor": 5
}
